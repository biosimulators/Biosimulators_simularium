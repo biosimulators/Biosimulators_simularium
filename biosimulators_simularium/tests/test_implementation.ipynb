{
 "cells": [
  {
   "cell_type": "code",
   "execution_count": 1,
   "id": "05539527-28ba-4a4e-8db7-86cf7a9055f7",
   "metadata": {
    "ExecuteTime": {
     "end_time": "2023-10-02T23:38:49.412753Z",
     "start_time": "2023-10-02T23:38:48.444079Z"
    }
   },
   "outputs": [],
   "source": [
    "import os \n",
    "from IPython.display import Image\n",
    "import numpy as np\n",
    "from simulariumio import (\n",
    "    TrajectoryConverter, \n",
    "    TrajectoryData, \n",
    "    AgentData, \n",
    "    UnitData, \n",
    "    MetaData, \n",
    "    ModelMetaData,\n",
    "    CameraData, \n",
    "    DisplayData,\n",
    "    DISPLAY_TYPE,\n",
    ")\n",
    "from biosimulators_utils.model_lang.smoldyn.validation import validate_model\n",
    "from biosimulators_simularium.converters.data_model import SmoldynCombineArchive"
   ]
  },
  {
   "cell_type": "code",
   "execution_count": 2,
   "id": "23d69b06-f1c6-4891-8aef-6618bd11072a",
   "metadata": {
    "ExecuteTime": {
     "end_time": "2023-10-02T23:38:52.347386Z",
     "start_time": "2023-10-02T23:38:52.342825Z"
    }
   },
   "outputs": [],
   "source": [
    "TEST_ARCHIVE_LOCATION = os.path.join(\n",
    "    'biosimulators_simularium',\n",
    "    'tests',\n",
    "    'fixtures',\n",
    "    'archives',\n",
    ")\n",
    "TEST_ARCHIVE_ROOTPATH = os.path.join(TEST_ARCHIVE_LOCATION, '__minE_Andrews_052023')\n",
    "TEST_OMEX_FILEPATH = TEST_ARCHIVE_ROOTPATH.replace('__', '') + '.omex'\n",
    "NEW_TEST_OMEX_FILEPATH = os.path.join(TEST_ARCHIVE_LOCATION, 'myNewlyGeneratedCOMBINE')\n",
    "TEST_SIMULARIUM_FILENAME = os.path.join(TEST_ARCHIVE_ROOTPATH, 'generated_from_test')\n",
    "GENERATE_MODEL_OUTPUT = True"
   ]
  },
  {
   "cell_type": "code",
   "execution_count": 3,
   "outputs": [
    {
     "data": {
      "text/plain": "'biosimulators_simularium/tests/fixtures/archives/__minE_Andrews_052023'"
     },
     "execution_count": 3,
     "metadata": {},
     "output_type": "execute_result"
    }
   ],
   "source": [
    "TEST_ARCHIVE_ROOTPATH"
   ],
   "metadata": {
    "collapsed": false,
    "ExecuteTime": {
     "end_time": "2023-10-02T23:38:53.352487Z",
     "start_time": "2023-10-02T23:38:53.348611Z"
    }
   },
   "id": "2876862c55cf5237"
  },
  {
   "cell_type": "code",
   "execution_count": 15,
   "outputs": [],
   "source": [
    "TEST_MODEL_FP = os.path.join(TEST_ARCHIVE_ROOTPATH, 'model.txt')"
   ],
   "metadata": {
    "collapsed": false,
    "ExecuteTime": {
     "end_time": "2023-10-02T15:59:31.409080Z",
     "start_time": "2023-10-02T15:59:31.405222Z"
    }
   },
   "id": "f929c7af9e142782"
  },
  {
   "cell_type": "code",
   "execution_count": 16,
   "outputs": [
    {
     "data": {
      "text/plain": "([['`biosimulators_simularium/tests/fixtures/archives/__minE_Andrews_052023/model.txt` is not a file.']],\n [],\n (None, None))"
     },
     "execution_count": 16,
     "metadata": {},
     "output_type": "execute_result"
    }
   ],
   "source": [
    "validation = validate_model(TEST_MODEL_FP)\n",
    "\n",
    "validation"
   ],
   "metadata": {
    "collapsed": false,
    "ExecuteTime": {
     "end_time": "2023-10-02T15:59:46.951208Z",
     "start_time": "2023-10-02T15:59:46.948396Z"
    }
   },
   "id": "2afa51c86c95cc13"
  },
  {
   "cell_type": "code",
   "execution_count": null,
   "id": "39e6fb3a-c04a-4b03-8109-b51c5b7c6f12",
   "metadata": {},
   "outputs": [],
   "source": [
    "# parameters\n",
    "total_steps = 5\n",
    "timestep = 0.5\n",
    "box_size = 100\n",
    "n_agents = 5\n",
    "min_radius = 5\n",
    "max_radius = 10\n",
    "\n",
    "type_names = []\n",
    "for t in range(total_steps):\n",
    "    type_names.append([choice(ascii_uppercase) for i in range(n_agents)])\n",
    "    \n",
    "example_default_data = TrajectoryData(\n",
    "    meta_data=MetaData(\n",
    "        box_size=np.array([box_size, box_size, box_size]),\n",
    "        camera_defaults=CameraData(\n",
    "            position=np.array([10.0, 0.0, 200.0]),\n",
    "            look_at_position=np.array([10.0, 0.0, 0.0]),\n",
    "            fov_degrees=60.0,\n",
    "        ),\n",
    "        trajectory_title=\"Some parameter set\",\n",
    "        model_meta_data=ModelMetaData(\n",
    "            title=\"Some agent-based model\",\n",
    "            version=\"8.1\",\n",
    "            authors=\"A Modeler\",\n",
    "            description=(\n",
    "                \"An agent-based model run with some parameter set\"\n",
    "            ),\n",
    "            doi=\"10.1016/j.bpj.2016.02.002\",\n",
    "            source_code_url=\"https://github.com/simularium/simulariumio\",\n",
    "            source_code_license_url=\"https://github.com/simularium/simulariumio/blob/main/LICENSE\",\n",
    "            input_data_url=\"https://allencell.org/path/to/native/engine/input/files\",\n",
    "            raw_output_data_url=\"https://allencell.org/path/to/native/engine/output/files\",\n",
    "        ),\n",
    "    ),\n",
    "    agent_data=AgentData(\n",
    "        times=timestep * np.array(list(range(total_steps))),\n",
    "        n_agents=np.array(total_steps * [n_agents]),\n",
    "        viz_types=np.array(total_steps * [n_agents * [1000.0]]),  # default viz type = 1000\n",
    "        unique_ids=np.array(total_steps * [list(range(n_agents))]),\n",
    "        types=type_names,\n",
    "        positions=np.random.uniform(size=(total_steps, n_agents, 3)) * box_size - box_size * 0.5,\n",
    "        radii=(max_radius - min_radius) * np.random.uniform(size=(total_steps, n_agents)) + min_radius,\n",
    "        display_data={\n",
    "            type_names[0][0]: DisplayData(\n",
    "                name=\"Molecule A\",\n",
    "                display_type=DISPLAY_TYPE.PDB,\n",
    "                url=\"https://files.rcsb.org/download/3KIN.pdb\",\n",
    "                color=\"#0080ff\",\n",
    "            ),\n",
    "        },\n",
    "    ),\n",
    "    time_units=UnitData(\"ns\"),  # nanoseconds\n",
    "    spatial_units=UnitData(\"nm\"),  # nanometers\n",
    ")"
   ]
  },
  {
   "cell_type": "code",
   "execution_count": 5,
   "id": "7c6a03c1-8b9f-4b72-8db1-5b61ed03adc4",
   "metadata": {
    "ExecuteTime": {
     "end_time": "2023-10-02T23:39:32.448443Z",
     "start_time": "2023-10-02T23:39:32.429639Z"
    }
   },
   "outputs": [
    {
     "ename": "AttributeError",
     "evalue": "'NoneType' object has no attribute 'replace'",
     "output_type": "error",
     "traceback": [
      "\u001B[0;31m---------------------------------------------------------------------------\u001B[0m",
      "\u001B[0;31mAttributeError\u001B[0m                            Traceback (most recent call last)",
      "Cell \u001B[0;32mIn[5], line 4\u001B[0m\n\u001B[1;32m      1\u001B[0m \u001B[38;5;28;01mfrom\u001B[39;00m \u001B[38;5;21;01mbiosimulators_simularium\u001B[39;00m\u001B[38;5;21;01m.\u001B[39;00m\u001B[38;5;21;01mconverters\u001B[39;00m\u001B[38;5;21;01m.\u001B[39;00m\u001B[38;5;21;01mdata_model\u001B[39;00m \u001B[38;5;28;01mimport\u001B[39;00m SmoldynCombineArchive\n\u001B[0;32m----> 4\u001B[0m archive \u001B[38;5;241m=\u001B[39m \u001B[43mSmoldynCombineArchive\u001B[49m\u001B[43m(\u001B[49m\u001B[43mrootpath\u001B[49m\u001B[38;5;241;43m=\u001B[39;49m\u001B[43mTEST_ARCHIVE_ROOTPATH\u001B[49m\u001B[43m)\u001B[49m\n",
      "File \u001B[0;32m~/Desktop/uchc_work/repos/Biosimulators_simularium/biosimulators_simularium/converters/data_model.py:115\u001B[0m, in \u001B[0;36mSmoldynCombineArchive.__init__\u001B[0;34m(self, rootpath, outputs_dirpath, model_output_filename, simularium_filename, name)\u001B[0m\n\u001B[1;32m    111\u001B[0m \u001B[38;5;28mself\u001B[39m\u001B[38;5;241m.\u001B[39mpaths \u001B[38;5;241m=\u001B[39m \u001B[38;5;28mself\u001B[39m\u001B[38;5;241m.\u001B[39mget_all_archive_filepaths()\n\u001B[1;32m    112\u001B[0m \u001B[38;5;28mself\u001B[39m\u001B[38;5;241m.\u001B[39mmodel_path \u001B[38;5;241m=\u001B[39m \u001B[38;5;28mself\u001B[39m\u001B[38;5;241m.\u001B[39mset_model_filepath()\n\u001B[1;32m    114\u001B[0m \u001B[38;5;28mself\u001B[39m\u001B[38;5;241m.\u001B[39mmodel_output_filename \u001B[38;5;241m=\u001B[39m model_output_filename \\\n\u001B[0;32m--> 115\u001B[0m     \u001B[38;5;129;01mor\u001B[39;00m \u001B[38;5;28;43mself\u001B[39;49m\u001B[38;5;241;43m.\u001B[39;49m\u001B[43mmodel_path\u001B[49m\u001B[38;5;241;43m.\u001B[39;49m\u001B[43mreplace\u001B[49m(\u001B[38;5;124m'\u001B[39m\u001B[38;5;124m.txt\u001B[39m\u001B[38;5;124m'\u001B[39m, \u001B[38;5;124m'\u001B[39m\u001B[38;5;124m'\u001B[39m) \u001B[38;5;241m+\u001B[39m \u001B[38;5;124m'\u001B[39m\u001B[38;5;124mout.txt\u001B[39m\u001B[38;5;124m'\u001B[39m\n\u001B[1;32m    116\u001B[0m \u001B[38;5;28mself\u001B[39m\u001B[38;5;241m.\u001B[39mpaths[\u001B[38;5;124m'\u001B[39m\u001B[38;5;124mmodel_output_file\u001B[39m\u001B[38;5;124m'\u001B[39m] \u001B[38;5;241m=\u001B[39m \u001B[38;5;28mself\u001B[39m\u001B[38;5;241m.\u001B[39mmodel_output_filename\n",
      "\u001B[0;31mAttributeError\u001B[0m: 'NoneType' object has no attribute 'replace'"
     ]
    }
   ],
   "source": [
    "from biosimulators_simularium.converters.data_model import SmoldynCombineArchive\n",
    "\n",
    "\n",
    "archive = SmoldynCombineArchive(rootpath=TEST_ARCHIVE_ROOTPATH)"
   ]
  },
  {
   "cell_type": "code",
   "execution_count": 6,
   "outputs": [
    {
     "name": "stdout",
     "output_type": "stream",
     "text": [
      "False\n"
     ]
    }
   ],
   "source": [
    "print(os.path.exists(TEST_ARCHIVE_ROOTPATH))"
   ],
   "metadata": {
    "collapsed": false,
    "ExecuteTime": {
     "end_time": "2023-10-02T23:39:46.634537Z",
     "start_time": "2023-10-02T23:39:46.629415Z"
    }
   },
   "id": "adecb0764a91013e"
  },
  {
   "cell_type": "code",
   "execution_count": null,
   "outputs": [],
   "source": [],
   "metadata": {
    "collapsed": false
   },
   "id": "5d76d5cef9196663"
  }
 ],
 "metadata": {
  "kernelspec": {
   "display_name": "Python 3 (ipykernel)",
   "language": "python",
   "name": "python3"
  },
  "language_info": {
   "codemirror_mode": {
    "name": "ipython",
    "version": 3
   },
   "file_extension": ".py",
   "mimetype": "text/x-python",
   "name": "python",
   "nbconvert_exporter": "python",
   "pygments_lexer": "ipython3",
   "version": "3.10.13"
  }
 },
 "nbformat": 4,
 "nbformat_minor": 5
}
